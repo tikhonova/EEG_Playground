{
 "cells": [
  {
   "cell_type": "code",
   "execution_count": 1,
   "id": "686bb9b4",
   "metadata": {},
   "outputs": [
    {
     "name": "stdout",
     "output_type": "stream",
     "text": [
      "Starting BlueMuse, see BlueMuse window for interactive list of devices.\n"
     ]
    }
   ],
   "source": [
    "!muselsl list"
   ]
  },
  {
   "cell_type": "code",
   "execution_count": 7,
   "id": "2c34cadf",
   "metadata": {},
   "outputs": [
    {
     "name": "stdout",
     "output_type": "stream",
     "text": [
      "Starting BlueMuse, see BlueMuse window for interactive list of devices.\n"
     ]
    }
   ],
   "source": [
    "!muselsl stream"
   ]
  },
  {
   "cell_type": "markdown",
   "id": "2dc30ac7",
   "metadata": {},
   "source": [
    "### Recording current stream"
   ]
  },
  {
   "cell_type": "code",
   "execution_count": 6,
   "id": "cf47ce27",
   "metadata": {},
   "outputs": [
    {
     "name": "stdout",
     "output_type": "stream",
     "text": [
      "Looking for a EEG stream...\n",
      "Started acquiring data.\n",
      "Looking for a Markers stream...\n",
      "Start recording at time t=1652668542.315\n",
      "Time correction:  1.4299999747890979e-05\n",
      "Time correction:  8.999999408842996e-06\n",
      "Done - wrote file: C:\\Users\\piewi\\OneDrive\\Documents\\EEG_Experiments\\EEG_recording_2022-05-16-02.35.41.csv\n",
      "Recording has ended\n"
     ]
    }
   ],
   "source": [
    "from muselsl import record\n",
    "\n",
    "if __name__ == \"__main__\":\n",
    "\n",
    "    # Note: an existing Muse LSL stream is required\n",
    "    record(10)\n",
    "\n",
    "    # Note: Recording is synchronous, so code here will not execute until the stream has been closed\n",
    "    print('Recording has ended')"
   ]
  },
  {
   "cell_type": "code",
   "execution_count": 9,
   "id": "944810b2",
   "metadata": {},
   "outputs": [],
   "source": [
    "#importing libraries\n",
    "import pandas as pd\n",
    "import glob\n",
    "from datetime import datetime"
   ]
  },
  {
   "cell_type": "code",
   "execution_count": 30,
   "id": "9b95c138",
   "metadata": {
    "scrolled": false
   },
   "outputs": [
    {
     "data": {
      "text/html": [
       "<div>\n",
       "<style scoped>\n",
       "    .dataframe tbody tr th:only-of-type {\n",
       "        vertical-align: middle;\n",
       "    }\n",
       "\n",
       "    .dataframe tbody tr th {\n",
       "        vertical-align: top;\n",
       "    }\n",
       "\n",
       "    .dataframe thead th {\n",
       "        text-align: right;\n",
       "    }\n",
       "</style>\n",
       "<table border=\"1\" class=\"dataframe\">\n",
       "  <thead>\n",
       "    <tr style=\"text-align: right;\">\n",
       "      <th></th>\n",
       "      <th>timestamps</th>\n",
       "      <th>TP9</th>\n",
       "      <th>AF7</th>\n",
       "      <th>AF8</th>\n",
       "      <th>TP10</th>\n",
       "      <th>Right AUX</th>\n",
       "      <th>Secondary Timestamp</th>\n",
       "    </tr>\n",
       "  </thead>\n",
       "  <tbody>\n",
       "    <tr>\n",
       "      <th>0</th>\n",
       "      <td>1.652668e+09</td>\n",
       "      <td>3.418</td>\n",
       "      <td>214.844</td>\n",
       "      <td>-64.941</td>\n",
       "      <td>-6.836</td>\n",
       "      <td>-34.668</td>\n",
       "      <td>26516.427</td>\n",
       "    </tr>\n",
       "    <tr>\n",
       "      <th>1</th>\n",
       "      <td>1.652668e+09</td>\n",
       "      <td>-108.398</td>\n",
       "      <td>-483.398</td>\n",
       "      <td>-49.805</td>\n",
       "      <td>-69.336</td>\n",
       "      <td>50.781</td>\n",
       "      <td>26516.431</td>\n",
       "    </tr>\n",
       "    <tr>\n",
       "      <th>2</th>\n",
       "      <td>1.652668e+09</td>\n",
       "      <td>-94.727</td>\n",
       "      <td>-590.820</td>\n",
       "      <td>-71.777</td>\n",
       "      <td>-48.340</td>\n",
       "      <td>6.348</td>\n",
       "      <td>26516.435</td>\n",
       "    </tr>\n",
       "    <tr>\n",
       "      <th>3</th>\n",
       "      <td>1.652668e+09</td>\n",
       "      <td>11.230</td>\n",
       "      <td>187.012</td>\n",
       "      <td>-62.988</td>\n",
       "      <td>17.578</td>\n",
       "      <td>-116.211</td>\n",
       "      <td>26516.439</td>\n",
       "    </tr>\n",
       "    <tr>\n",
       "      <th>4</th>\n",
       "      <td>1.652668e+09</td>\n",
       "      <td>12.695</td>\n",
       "      <td>338.379</td>\n",
       "      <td>-51.270</td>\n",
       "      <td>7.812</td>\n",
       "      <td>-84.961</td>\n",
       "      <td>26516.443</td>\n",
       "    </tr>\n",
       "  </tbody>\n",
       "</table>\n",
       "</div>"
      ],
      "text/plain": [
       "     timestamps      TP9      AF7     AF8    TP10  Right AUX  \\\n",
       "0  1.652668e+09    3.418  214.844 -64.941  -6.836    -34.668   \n",
       "1  1.652668e+09 -108.398 -483.398 -49.805 -69.336     50.781   \n",
       "2  1.652668e+09  -94.727 -590.820 -71.777 -48.340      6.348   \n",
       "3  1.652668e+09   11.230  187.012 -62.988  17.578   -116.211   \n",
       "4  1.652668e+09   12.695  338.379 -51.270   7.812    -84.961   \n",
       "\n",
       "   Secondary Timestamp  \n",
       "0            26516.427  \n",
       "1            26516.431  \n",
       "2            26516.435  \n",
       "3            26516.439  \n",
       "4            26516.443  "
      ]
     },
     "execution_count": 30,
     "metadata": {},
     "output_type": "execute_result"
    }
   ],
   "source": [
    "path = r'C:/Users/piewi/OneDrive/Documents/EEG_Experiments'               \n",
    "all_files = glob.glob(os.path.join(path, \"*.csv\"))\n",
    "\n",
    "df_from_each_file = (pd.read_csv(f) for f in all_files)\n",
    "mydf   = pd.concat(df_from_each_file, ignore_index=True)\n",
    "mydf.head()"
   ]
  },
  {
   "cell_type": "code",
   "execution_count": 37,
   "id": "0b85cef6",
   "metadata": {
    "scrolled": true
   },
   "outputs": [
    {
     "name": "stdout",
     "output_type": "stream",
     "text": [
      "<class 'pandas.core.frame.DataFrame'>\n",
      "RangeIndex: 19295 entries, 0 to 19294\n",
      "Data columns (total 7 columns):\n",
      " #   Column               Non-Null Count  Dtype  \n",
      "---  ------               --------------  -----  \n",
      " 0   timestamps           19295 non-null  float64\n",
      " 1   TP9                  19295 non-null  float64\n",
      " 2   AF7                  19295 non-null  float64\n",
      " 3   AF8                  19295 non-null  float64\n",
      " 4   TP10                 19295 non-null  float64\n",
      " 5   Right AUX            19295 non-null  float64\n",
      " 6   Secondary Timestamp  19295 non-null  float64\n",
      "dtypes: float64(7)\n",
      "memory usage: 1.0 MB\n"
     ]
    }
   ],
   "source": [
    "mydf.info()"
   ]
  },
  {
   "cell_type": "code",
   "execution_count": 38,
   "id": "c93cc12a",
   "metadata": {},
   "outputs": [
    {
     "name": "stdout",
     "output_type": "stream",
     "text": [
      "Date and time is: 2022-05-15 23:00:03.000964\n",
      "Timestamp is: 1652670003.000964\n"
     ]
    }
   ],
   "source": [
    "from datetime import datetime\n",
    "\n",
    "# Getting the current date and time\n",
    "dt = datetime.now()\n",
    "\n",
    "# getting the timestamp\n",
    "ts = datetime.timestamp(dt)\n",
    "\n",
    "print(\"Date and time is:\", dt)\n",
    "print(\"Timestamp is:\", ts)"
   ]
  },
  {
   "cell_type": "code",
   "execution_count": 43,
   "id": "f89744a0",
   "metadata": {},
   "outputs": [],
   "source": [
    "#datetime.fromtimestamp(mydf['timestamps'], tz=None)\n",
    "mydf['timestamps'] = mydf['timestamps'].apply(lambda d: datetime.fromtimestamp(d))\n",
    "mydf['Secondary Timestamp'] = mydf['Secondary Timestamp'].apply(lambda d: datetime.fromtimestamp(d))"
   ]
  },
  {
   "cell_type": "code",
   "execution_count": 45,
   "id": "717a47e2",
   "metadata": {},
   "outputs": [
    {
     "data": {
      "text/html": [
       "<div>\n",
       "<style scoped>\n",
       "    .dataframe tbody tr th:only-of-type {\n",
       "        vertical-align: middle;\n",
       "    }\n",
       "\n",
       "    .dataframe tbody tr th {\n",
       "        vertical-align: top;\n",
       "    }\n",
       "\n",
       "    .dataframe thead th {\n",
       "        text-align: right;\n",
       "    }\n",
       "</style>\n",
       "<table border=\"1\" class=\"dataframe\">\n",
       "  <thead>\n",
       "    <tr style=\"text-align: right;\">\n",
       "      <th></th>\n",
       "      <th>timestamps</th>\n",
       "      <th>TP9</th>\n",
       "      <th>AF7</th>\n",
       "      <th>AF8</th>\n",
       "      <th>TP10</th>\n",
       "      <th>Right AUX</th>\n",
       "      <th>Secondary Timestamp</th>\n",
       "    </tr>\n",
       "  </thead>\n",
       "  <tbody>\n",
       "    <tr>\n",
       "      <th>0</th>\n",
       "      <td>2022-05-15 22:32:35.521</td>\n",
       "      <td>3.418</td>\n",
       "      <td>214.844</td>\n",
       "      <td>-64.941</td>\n",
       "      <td>-6.836</td>\n",
       "      <td>-34.668</td>\n",
       "      <td>1970-01-01 02:21:56.427</td>\n",
       "    </tr>\n",
       "    <tr>\n",
       "      <th>1</th>\n",
       "      <td>2022-05-15 22:32:35.525</td>\n",
       "      <td>-108.398</td>\n",
       "      <td>-483.398</td>\n",
       "      <td>-49.805</td>\n",
       "      <td>-69.336</td>\n",
       "      <td>50.781</td>\n",
       "      <td>1970-01-01 02:21:56.431</td>\n",
       "    </tr>\n",
       "    <tr>\n",
       "      <th>2</th>\n",
       "      <td>2022-05-15 22:32:35.529</td>\n",
       "      <td>-94.727</td>\n",
       "      <td>-590.820</td>\n",
       "      <td>-71.777</td>\n",
       "      <td>-48.340</td>\n",
       "      <td>6.348</td>\n",
       "      <td>1970-01-01 02:21:56.435</td>\n",
       "    </tr>\n",
       "    <tr>\n",
       "      <th>3</th>\n",
       "      <td>2022-05-15 22:32:35.533</td>\n",
       "      <td>11.230</td>\n",
       "      <td>187.012</td>\n",
       "      <td>-62.988</td>\n",
       "      <td>17.578</td>\n",
       "      <td>-116.211</td>\n",
       "      <td>1970-01-01 02:21:56.439</td>\n",
       "    </tr>\n",
       "    <tr>\n",
       "      <th>4</th>\n",
       "      <td>2022-05-15 22:32:35.537</td>\n",
       "      <td>12.695</td>\n",
       "      <td>338.379</td>\n",
       "      <td>-51.270</td>\n",
       "      <td>7.812</td>\n",
       "      <td>-84.961</td>\n",
       "      <td>1970-01-01 02:21:56.443</td>\n",
       "    </tr>\n",
       "  </tbody>\n",
       "</table>\n",
       "</div>"
      ],
      "text/plain": [
       "               timestamps      TP9      AF7     AF8    TP10  Right AUX  \\\n",
       "0 2022-05-15 22:32:35.521    3.418  214.844 -64.941  -6.836    -34.668   \n",
       "1 2022-05-15 22:32:35.525 -108.398 -483.398 -49.805 -69.336     50.781   \n",
       "2 2022-05-15 22:32:35.529  -94.727 -590.820 -71.777 -48.340      6.348   \n",
       "3 2022-05-15 22:32:35.533   11.230  187.012 -62.988  17.578   -116.211   \n",
       "4 2022-05-15 22:32:35.537   12.695  338.379 -51.270   7.812    -84.961   \n",
       "\n",
       "      Secondary Timestamp  \n",
       "0 1970-01-01 02:21:56.427  \n",
       "1 1970-01-01 02:21:56.431  \n",
       "2 1970-01-01 02:21:56.435  \n",
       "3 1970-01-01 02:21:56.439  \n",
       "4 1970-01-01 02:21:56.443  "
      ]
     },
     "execution_count": 45,
     "metadata": {},
     "output_type": "execute_result"
    }
   ],
   "source": [
    "mydf.head()"
   ]
  },
  {
   "cell_type": "markdown",
   "id": "5c8d0d45",
   "metadata": {},
   "source": [
    "### Running an experiment"
   ]
  },
  {
   "cell_type": "code",
   "execution_count": 4,
   "id": "875f8d99",
   "metadata": {
    "scrolled": false
   },
   "outputs": [
    {
     "name": "stdout",
     "output_type": "stream",
     "text": [
      "38.0308 \tWARNING \tUser requested fullscreen with size [1600  900], but screen is actually [1440, 900]. Using actual size\n",
      "39.0907 \tWARNING \tUser requested fullscreen with size [1600  900], but screen is actually [1440, 900]. Using actual size\n",
      "starting background recording process\n",
      "will save to file: C:\\Users\\piewi\\.eegnb\\data\\visual_n170\\local\\muse2\\subject0001\\session001\\recording_2022-05-16-02.27.33.csv\n"
     ]
    }
   ],
   "source": [
    "# Imports\n",
    "import os\n",
    "from eegnb import generate_save_fn\n",
    "from eegnb.devices.eeg import EEG\n",
    "from eegnb.experiments.visual_n170 import n170\n",
    "from eegnb.analysis.utils import load_data\n",
    "\n",
    "# Define some variables\n",
    "board_name = 'muse2'\n",
    "# board_name = 'cyton'\n",
    "\n",
    "experiment = 'visual_n170'\n",
    "session = 1\n",
    "subject = 1 # \n",
    "record_duration=60\n",
    "session = 1\n",
    "\n",
    "# Initiate EEG device\n",
    "eeg_device = EEG(device=board_name)\n",
    "\n",
    "# Create output filename\n",
    "new_dir = \"C:/Users/piewi/OneDrive/Documents/Muse/experiments\"\n",
    "save_fn = generate_save_fn(board_name, experiment, subject, session, new_dir)\n",
    "\n",
    "# Run experiment\n",
    "n170.present(duration=record_duration, eeg=eeg_device, save_fn=save_fn)"
   ]
  },
  {
   "cell_type": "code",
   "execution_count": null,
   "id": "eef88ac7",
   "metadata": {},
   "outputs": [],
   "source": []
  }
 ],
 "metadata": {
  "kernelspec": {
   "display_name": "eeg-notebooks",
   "language": "python",
   "name": "eeg-notebooks"
  },
  "language_info": {
   "codemirror_mode": {
    "name": "ipython",
    "version": 3
   },
   "file_extension": ".py",
   "mimetype": "text/x-python",
   "name": "python",
   "nbconvert_exporter": "python",
   "pygments_lexer": "ipython3",
   "version": "3.7.11"
  }
 },
 "nbformat": 4,
 "nbformat_minor": 5
}
