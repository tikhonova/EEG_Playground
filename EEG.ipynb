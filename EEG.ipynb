{
 "cells": [
  {
   "cell_type": "code",
   "execution_count": 4,
   "id": "686bb9b4",
   "metadata": {},
   "outputs": [
    {
     "name": "stdout",
     "output_type": "stream",
     "text": [
      "Starting BlueMuse, see BlueMuse window for interactive list of devices.\n"
     ]
    }
   ],
   "source": [
    "!muselsl list"
   ]
  },
  {
   "cell_type": "code",
   "execution_count": 5,
   "id": "5f37664f",
   "metadata": {},
   "outputs": [
    {
     "name": "stdout",
     "output_type": "stream",
     "text": [
      "Starting BlueMuse, see BlueMuse window for interactive list of devices.\n"
     ]
    }
   ],
   "source": [
    "!muselsl stream"
   ]
  },
  {
   "cell_type": "code",
   "execution_count": 9,
   "id": "875f8d99",
   "metadata": {
    "scrolled": false
   },
   "outputs": [
    {
     "name": "stdout",
     "output_type": "stream",
     "text": [
      "starting background recording process\n",
      "will save to file: C:\\Users\\piewi\\.eegnb\\data\\visual_n170\\local\\muse2\\subject0001\\session001\\recording_2022-02-04-22.49.48.csv\n"
     ]
    }
   ],
   "source": [
    "# Imports\n",
    "import os\n",
    "from eegnb import generate_save_fn\n",
    "from eegnb.devices.eeg import EEG\n",
    "from eegnb.experiments.visual_n170 import n170\n",
    "from eegnb.analysis.utils import load_data\n",
    "\n",
    "# Define some variables\n",
    "board_name = 'muse2'\n",
    "# board_name = 'cyton'\n",
    "\n",
    "experiment = 'visual_n170'\n",
    "session = 1\n",
    "subject = 1 # \n",
    "record_duration=60\n",
    "session = 1\n",
    "\n",
    "# Initiate EEG device\n",
    "eeg_device = EEG(device=board_name)\n",
    "\n",
    "# Create output filename\n",
    "new_dir = \"C:/Users/piewi/OneDrive/Documents/Muse/experiments\"\n",
    "save_fn = generate_save_fn(board_name, experiment, subject, session, new_dir)\n",
    "\n",
    "# Run experiment\n",
    "n170.present(duration=record_duration, eeg=eeg_device, save_fn=save_fn)"
   ]
  },
  {
   "cell_type": "code",
   "execution_count": null,
   "id": "eef88ac7",
   "metadata": {},
   "outputs": [],
   "source": []
  }
 ],
 "metadata": {
  "kernelspec": {
   "display_name": "eeg-notebooks",
   "language": "python",
   "name": "eeg-notebooks"
  },
  "language_info": {
   "codemirror_mode": {
    "name": "ipython",
    "version": 3
   },
   "file_extension": ".py",
   "mimetype": "text/x-python",
   "name": "python",
   "nbconvert_exporter": "python",
   "pygments_lexer": "ipython3",
   "version": "3.7.11"
  }
 },
 "nbformat": 4,
 "nbformat_minor": 5
}
